{
 "cells": [
  {
   "cell_type": "markdown",
   "metadata": {},
   "source": [
    "# Dataset showcase\n",
    "This notebook serves to show all different samples that can be generated. Simply run all cells below and you will see the samples."
   ]
  },
  {
   "cell_type": "markdown",
   "metadata": {},
   "source": [
    "## 1. Imports and parameters"
   ]
  },
  {
   "cell_type": "code",
   "execution_count": null,
   "metadata": {},
   "outputs": [],
   "source": [
    "from utils import create_sample, make_event_based, animate, spiking_overview\n",
    "\n",
    "frame_size = 64\n",
    "n_frames = 16\n"
   ]
  },
  {
   "cell_type": "markdown",
   "metadata": {},
   "source": [
    "## 2. Squares"
   ]
  },
  {
   "cell_type": "code",
   "execution_count": null,
   "metadata": {},
   "outputs": [],
   "source": [
    "shape = \"square\"\n",
    "motions = [\"up\", \"down\", \"left\", \"right\", \"rotation\"]\n",
    "frames_list = []\n",
    "labels_list = []\n",
    "for motion in motions:\n",
    "    frames, labels = create_sample(shape, motion, frame_size, n_frames)\n",
    "    frames_list.append(frames)\n",
    "    labels_list.append(labels)\n",
    "\n",
    "animate(frames_list, \"all_motions_squares.gif\")"
   ]
  },
  {
   "cell_type": "markdown",
   "metadata": {},
   "source": [
    "<center> Figure 2.1: All motions in normal format with squares </center>"
   ]
  },
  {
   "cell_type": "code",
   "execution_count": null,
   "metadata": {},
   "outputs": [],
   "source": [
    "events_list = []\n",
    "for frames in frames_list:\n",
    "    events = make_event_based(frames)\n",
    "    events_list.append(events)\n",
    "    \n",
    "animate(events_list, \"all_motions_squares_events.gif\")"
   ]
  },
  {
   "cell_type": "markdown",
   "metadata": {},
   "source": [
    "<center> Figure 2.2: All motions in event-based format with squares </center>"
   ]
  },
  {
   "cell_type": "markdown",
   "metadata": {},
   "source": [
    "## 3. Circles"
   ]
  },
  {
   "cell_type": "code",
   "execution_count": null,
   "metadata": {},
   "outputs": [],
   "source": [
    "shape = \"circle\"\n",
    "motions = [\"up\", \"down\", \"left\", \"right\", \"rotation\"]\n",
    "frames_list = []\n",
    "labels_list = []\n",
    "for motion in motions:\n",
    "    frames, labels = create_sample(shape, motion, frame_size, n_frames)\n",
    "    frames_list.append(frames)\n",
    "    labels_list.append(labels)\n",
    "\n",
    "animate(frames_list, \"all_motions_circles.gif\")"
   ]
  },
  {
   "cell_type": "markdown",
   "metadata": {},
   "source": [
    "<center> Figure 2.1: All motions in normal format with circles </center>"
   ]
  },
  {
   "cell_type": "code",
   "execution_count": null,
   "metadata": {},
   "outputs": [],
   "source": [
    "events_list = []\n",
    "for frames in frames_list:\n",
    "    events = make_event_based(frames)\n",
    "    events_list.append(events)\n",
    "    \n",
    "animate(events_list, \"all_motions_circles_events.gif\")"
   ]
  },
  {
   "cell_type": "markdown",
   "metadata": {},
   "source": [
    "<center> Figure 2.2: All motions in event-based format with circles </center>"
   ]
  },
  {
   "cell_type": "markdown",
   "metadata": {},
   "source": [
    "## 4. Noise"
   ]
  },
  {
   "cell_type": "code",
   "execution_count": null,
   "metadata": {},
   "outputs": [],
   "source": [
    "shape = \"noise\"\n",
    "motions = [\"up\", \"down\", \"left\", \"right\", \"rotation\"]\n",
    "frames_list = []\n",
    "labels_list = []\n",
    "for motion in motions:\n",
    "    frames, labels = create_sample(shape, motion, frame_size, n_frames)\n",
    "    frames_list.append(frames)\n",
    "    labels_list.append(labels)\n",
    "\n",
    "animate(frames_list, \"all_motions_noise.gif\")"
   ]
  },
  {
   "cell_type": "markdown",
   "metadata": {},
   "source": [
    "<center> Figure 2.1: All motions in normal format with noise </center>"
   ]
  },
  {
   "cell_type": "code",
   "execution_count": null,
   "metadata": {},
   "outputs": [],
   "source": [
    "events_list = []\n",
    "for frames in frames_list:\n",
    "    events = make_event_based(frames)\n",
    "    events_list.append(events)\n",
    "    \n",
    "animate(events_list, \"all_motions_noise_events.gif\")"
   ]
  },
  {
   "cell_type": "markdown",
   "metadata": {},
   "source": [
    "<center> Figure 2.2: All motions in event-based format with circles </center>"
   ]
  }
 ],
 "metadata": {
  "kernelspec": {
   "display_name": "venv",
   "language": "python",
   "name": "python3"
  },
  "language_info": {
   "codemirror_mode": {
    "name": "ipython",
    "version": 3
   },
   "file_extension": ".py",
   "mimetype": "text/x-python",
   "name": "python",
   "nbconvert_exporter": "python",
   "pygments_lexer": "ipython3",
   "version": "3.9.7"
  }
 },
 "nbformat": 4,
 "nbformat_minor": 2
}
